{
 "cells": [
  {
   "cell_type": "code",
   "execution_count": 1,
   "metadata": {},
   "outputs": [
    {
     "name": "stdout",
     "output_type": "stream",
     "text": [
      "20\n",
      "<class 'int'>\n"
     ]
    }
   ],
   "source": [
    "#basic data types is python with examples\n",
    "#int float and complex\n",
    "x = int(20)\n",
    "print(x)\n",
    "print(type(x))"
   ]
  },
  {
   "cell_type": "code",
   "execution_count": 2,
   "metadata": {},
   "outputs": [
    {
     "name": "stdout",
     "output_type": "stream",
     "text": [
      "20.0\n",
      "<class 'float'>\n"
     ]
    }
   ],
   "source": [
    "#float\n",
    "x = float(20)\n",
    "print(x)\n",
    "print(type(x))"
   ]
  },
  {
   "cell_type": "code",
   "execution_count": 5,
   "metadata": {},
   "outputs": [
    {
     "name": "stdout",
     "output_type": "stream",
     "text": [
      "(20+0j)\n",
      "<class 'complex'>\n"
     ]
    }
   ],
   "source": [
    "#complex\n",
    "x=complex(20)\n",
    "print(x)\n",
    "print(type(x))"
   ]
  },
  {
   "cell_type": "code",
   "execution_count": 22,
   "metadata": {},
   "outputs": [
    {
     "name": "stdout",
     "output_type": "stream",
     "text": [
      "[1, 3, 4, 4, 5, 6]\n",
      "5\n",
      "[1, 2, 3, 4, 5, 6, 7, 8, 9]\n",
      "[3, 4, 5]\n",
      "9\n",
      "[1, 2, 3, 4, 5, 6, 7, 8, 9, 10]\n",
      "[1, 3, 4, 4, 5, 6, 1, 2, 3, 4, 5, 6, 7, 8, 9, 10]\n",
      "[1, 2, 3, 4, 5, 6, 7, 8, 9, 10]\n",
      "[100, 1, 2, 3, 4, 5, 6, 7, 8, 9, 10]\n",
      "[1000, 1, 2, 3, 4, 5, 6, 7, 8, 9, 10]\n",
      "[10, 9, 8, 7, 6, 5, 4, 3, 2, 1, 1000]\n"
     ]
    }
   ],
   "source": [
    "#lists in  python\n",
    "list1=[1,3,4,4,5,6]\n",
    "print(list1)\n",
    "print(list1[4])\n",
    "\n",
    "list2=[1,2,3,4,5,6,7,8,9]\n",
    "print(list2)\n",
    "print(list2[2:5])\n",
    "print(list2[-1])\n",
    "list2.append(10)\n",
    "print(list2)\n",
    "list1.extend(list2)\n",
    "print(list1)\n",
    "print(list2)\n",
    "list2.insert(0,100)\n",
    "print(list2)\n",
    "list2[0]=1000\n",
    "print(list2)\n",
    "list2.reverse()\n",
    "print(list2)\n",
    "\n",
    "\n"
   ]
  },
  {
   "cell_type": "code",
   "execution_count": 24,
   "metadata": {},
   "outputs": [
    {
     "name": "stdout",
     "output_type": "stream",
     "text": [
      "('orange', 'apple', 'grapes')\n"
     ]
    }
   ],
   "source": [
    "#tuple\n",
    "my_tuple=('orange','apple','grapes')\n",
    "print(my_tuple)"
   ]
  }
 ],
 "metadata": {
  "kernelspec": {
   "display_name": "Python 3",
   "language": "python",
   "name": "python3"
  },
  "language_info": {
   "codemirror_mode": {
    "name": "ipython",
    "version": 3
   },
   "file_extension": ".py",
   "mimetype": "text/x-python",
   "name": "python",
   "nbconvert_exporter": "python",
   "pygments_lexer": "ipython3",
   "version": "3.9.13"
  }
 },
 "nbformat": 4,
 "nbformat_minor": 2
}
