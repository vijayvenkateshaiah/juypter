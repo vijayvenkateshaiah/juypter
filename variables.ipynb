{
 "cells": [
  {
   "cell_type": "code",
   "execution_count": 5,
   "metadata": {},
   "outputs": [
    {
     "name": "stdout",
     "output_type": "stream",
     "text": [
      "5\n",
      "4\n",
      "Vijay\n",
      "vijay\n",
      "vijay\n",
      "vijay\n"
     ]
    }
   ],
   "source": [
    "#this file is an example of varaibles\n",
    "#creating varaibles\n",
    "a=5\n",
    "b=4\n",
    "print(a)\n",
    "print(b)\n",
    "#A is different variable and A is different variable\n",
    "A = \"Vijay\"\n",
    "print(A)\n",
    "#if we have assigned the varaible with different name the variable will be updated with latest value\n",
    "c = 5\n",
    "c = 'vijay'\n",
    "print(c)\n",
    "#single quotes and double quotes are one and the same for str\n",
    "d = \"vijay\"\n",
    "e = 'vijay'\n",
    "print(d)\n",
    "print(e)\n"
   ]
  },
  {
   "cell_type": "code",
   "execution_count": 6,
   "metadata": {},
   "outputs": [
    {
     "name": "stdout",
     "output_type": "stream",
     "text": [
      "Assigning multiple values to the variables\n",
      "orange\n",
      "orange\n",
      "orange\n"
     ]
    }
   ],
   "source": [
    "print(\"Assigning multiple values to the variables\")\n",
    "a = b = c = 'orange'\n",
    "print(a)\n",
    "print(b)\n",
    "print(c)\n"
   ]
  },
  {
   "cell_type": "code",
   "execution_count": 7,
   "metadata": {},
   "outputs": [
    {
     "name": "stdout",
     "output_type": "stream",
     "text": [
      "The another form of assigning different values to varaibles\n",
      "bangalore\n",
      "mangalore\n",
      "bengal\n"
     ]
    }
   ],
   "source": [
    "print(\"The another form of assigning different values to varaibles\")\n",
    "x,y,z=\"bangalore\",'mangalore','bengal'\n",
    "print(x)\n",
    "print(y)\n",
    "print(z)"
   ]
  },
  {
   "cell_type": "code",
   "execution_count": null,
   "metadata": {},
   "outputs": [],
   "source": []
  }
 ],
 "metadata": {
  "kernelspec": {
   "display_name": "Python 3",
   "language": "python",
   "name": "python3"
  },
  "language_info": {
   "codemirror_mode": {
    "name": "ipython",
    "version": 3
   },
   "file_extension": ".py",
   "mimetype": "text/x-python",
   "name": "python",
   "nbconvert_exporter": "python",
   "pygments_lexer": "ipython3",
   "version": "3.9.13"
  },
  "orig_nbformat": 4
 },
 "nbformat": 4,
 "nbformat_minor": 2
}
